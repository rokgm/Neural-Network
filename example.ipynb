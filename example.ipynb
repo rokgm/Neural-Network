{
    "cells": [
        {
            "cell_type": "code",
            "execution_count": 1,
            "metadata": {},
            "outputs": [],
            "source": [
                "import matplotlib.pyplot as plt\n",
                "import numpy as np\n",
                "\n",
                "from bin.neural_n import NeuralNetwork as NN"
            ]
        },
        {
            "cell_type": "code",
            "execution_count": 2,
            "metadata": {},
            "outputs": [],
            "source": [
                "### Data ###\n",
                "N_train = 60000   # Number of training examples from file\n",
                "N_test = 10000  # Number of testing examples from file\n",
                "N_output_values = 10\n",
                "\n",
                "train_data = np.zeros([N_train, 785])\n",
                "with open('data_set/mnist_train.csv', 'r') as data:\n",
                "    for x in range(N_train):\n",
                "        train_data[x] = np.fromstring(next(data), sep=',')\n",
                "\n",
                "test_data = np.zeros([N_test, 785])\n",
                "with open('data_set/mnist_test.csv', 'r') as data:\n",
                "    for x in range(N_test):\n",
                "        test_data[x] = np.fromstring(next(data), sep=',')\n",
                "\n",
                "fac = 1 / 255\n",
                "train_imgs = (train_data[:, 1:]) * fac\n",
                "train_labels = train_data[:, :1].transpose()[0,:].astype(np.int)\n",
                "\n",
                "test_imgs = (test_data[:, 1:]) * fac\n",
                "test_labels = test_data[:, :1].transpose()[0,:].astype(np.int)\n",
                "\n",
                "train_pairs = list(zip(train_imgs, NN.one_hot_encoder(train_labels, N_output_values)))\n",
                "test_pairs = list(zip(test_imgs, NN.one_hot_encoder(test_labels, N_output_values)))"
            ]
        },
        {
            "cell_type": "code",
            "execution_count": 4,
            "metadata": {},
            "outputs": [
                {
                    "name": "stderr",
                    "output_type": "stream",
                    "text": [
                        "Iterations: 100%|██████████| 60000/60000 [01:17<00:00, 771.55it/s]\n",
                        "Iterations: 100%|██████████| 60000/60000 [01:17<00:00, 775.44it/s]\n",
                        "Iterations: 100%|██████████| 60000/60000 [01:17<00:00, 770.66it/s]\n",
                        "Epochs: 100%|██████████| 3/3 [03:53<00:00, 77.67s/it]\n"
                    ]
                },
                {
                    "name": "stdout",
                    "output_type": "stream",
                    "text": [
                        "Mean squared error: 0.03397998624850731\n",
                        "Accuracy: 84.32 %\n"
                    ]
                }
            ],
            "source": [
                "### Network ###\n",
                "net = NN(784,200,10, learning_rate=0.001, epochs=3)\n",
                "net.train(train_pairs, visualize_cost=False)\n",
                "net.save_network('load_net_example_20epochs')\n",
                "\n",
                "print('Mean squared error:', net.evaluate(test_pairs))\n",
                "print('Accuracy:', net.accuracy(test_pairs))"
            ]
        },
        {
            "cell_type": "code",
            "execution_count": 5,
            "metadata": {},
            "outputs": [
                {
                    "name": "stdout",
                    "output_type": "stream",
                    "text": [
                        "Mean squared error: 0.00946928207976929\n",
                        "Accuracy: 94.69 %\n"
                    ]
                },
                {
                    "data": {
                        "image/png": "[encoded data removed]",
                        "text/plain": [
                            "<Figure size 432x288 with 1 Axes>"
                        ]
                    },
                    "metadata": {
                        "needs_background": "light"
                    },
                    "output_type": "display_data"
                }
            ],
            "source": [
                "### Loading Network from file and predictions ###\n",
                "net = NN.load_network('load_net_example_50epochs.npy')      # Load network trained with 50 epochs\n",
                "\n",
                "print('Mean squared error:', net.evaluate(test_pairs))\n",
                "print('Accuracy:', net.accuracy(test_pairs))\n",
                "\n",
                "i = 1234\n",
                "plt.imshow(test_imgs[i].reshape((28,28)), cmap='Greys')\n",
                "plt.title('Example i={} \\n Label: {} \\n Network prediction: {}'.format(i, test_labels[i], net.predict(test_imgs[i])))\n",
                "plt.plot()\n",
                "plt.show()"
            ]
        }
    ],
    "metadata": {
        "kernelspec": {
            "display_name": "Python 3.9.6 64-bit",
            "language": "python",
            "name": "python3"
        },
        "language_info": {
            "codemirror_mode": {
                "name": "ipython",
                "version": 3
            },
            "file_extension": ".py",
            "mimetype": "text/x-python",
            "name": "python",
            "nbconvert_exporter": "python",
            "pygments_lexer": "ipython3",
            "version": "3.9.6"
        },
        "orig_nbformat": 4,
        "vscode": {
            "interpreter": {
                "hash": "32ae35190bc37229b69c80025fce171693a5113324be0cade6b8af14cc0e10bd"
            }
        }
    },
    "nbformat": 4,
    "nbformat_minor": 2
}
